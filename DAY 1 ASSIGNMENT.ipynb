{
 "cells": [
  {
   "cell_type": "code",
   "execution_count": 3,
   "metadata": {},
   "outputs": [
    {
     "name": "stdout",
     "output_type": "stream",
     "text": [
      "enter first number:15\n",
      "enter second number:3\n",
      "Sum: 18\n",
      "Difference: 12\n",
      "Product: 45\n",
      "Division: 5.0\n"
     ]
    }
   ],
   "source": [
    "#Question 1\n",
    "#Write a python program that takes two numbers as the input and print the result of Addition,Subtraction, Multiplication, Division of the two numbers\n",
    "x=int(input('enter first number:'))\n",
    "y=int(input('enter second number:'))\n",
    "print('Sum:',x+y)\n",
    "print('Difference:',x-y)\n",
    "print('Product:',x*y)\n",
    "print(\"Division:\",x/y)    \n"
   ]
  },
  {
   "cell_type": "code",
   "execution_count": 6,
   "metadata": {},
   "outputs": [
    {
     "name": "stdout",
     "output_type": "stream",
     "text": [
      "enter first number:4\n",
      "enter second number:2\n",
      "x^y: 16\n"
     ]
    }
   ],
   "source": [
    "#Question 2\n",
    "#Write a python program that takes two numbers as the input such as X and Y and print the result of X^Y(X to the power of Y).\n",
    "x=int(input('enter first number:'))\n",
    "y=int(input('enter second number:'))\n",
    "print('x^y:',x**y)"
   ]
  },
  {
   "cell_type": "code",
   "execution_count": null,
   "metadata": {},
   "outputs": [],
   "source": []
  }
 ],
 "metadata": {
  "kernelspec": {
   "display_name": "Python 3",
   "language": "python",
   "name": "python3"
  },
  "language_info": {
   "codemirror_mode": {
    "name": "ipython",
    "version": 3
   },
   "file_extension": ".py",
   "mimetype": "text/x-python",
   "name": "python",
   "nbconvert_exporter": "python",
   "pygments_lexer": "ipython3",
   "version": "3.8.3"
  }
 },
 "nbformat": 4,
 "nbformat_minor": 4
}
